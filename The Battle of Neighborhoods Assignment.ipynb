{
 "cells": [
  {
   "cell_type": "markdown",
   "metadata": {},
   "source": [
    "### Week 4 Assignment Tasks\n",
    "*  description of the problem and a discussion of the background. (15 marks)\n",
    "* A description of the data and how it will be used to solve the problem. (15 marks)"
   ]
  },
  {
   "cell_type": "markdown",
   "metadata": {},
   "source": [
    "# The Battle of Neighborhoods"
   ]
  },
  {
   "cell_type": "markdown",
   "metadata": {},
   "source": [
    "## 1. Introduction/Business Problem\n",
    "#### Problem\n",
    "Many people constantly seek new job opportunities within the same community they live in or across the city or even a different city itself. Let's say a person got an interesting job offer from a different city , say New York and he/she lives in Downtown Toronto currently. It would be really helpful to seek a place to live which is most similar to the current living location of that person. \n",
    "<p>Some of the popular location categories one might look for in the proximity of a living area are grocery stores, colleges or/and schools, parks, restaurants, coffee-shops, hospitals and other community areas like religious places, community halls, libraries, etc. So I’ll find out what are borough-neighborhoods that are very similar to a person's current location. </p>\n",
    "<p>This information can help the person decide on which neighborhood he/she would love to live in once he/she moves to New York after accepting a new job offer.</p>\n",
    "\n",
    "#### Similarity\n",
    "How do we compare 2 cities and measure similarity? Fortunately, Foursquare offers venue category to each venue, this information can be used to count the number of venues for each category and compare it with all neighborhoods of New York."
   ]
  },
  {
   "cell_type": "markdown",
   "metadata": {},
   "source": [
    "## 2.Data\n",
    "### Data collection\n",
    "#### New York data\n",
    "All the venues of New York City are available in a dataset provided by PLUTO which is a part of the Department of City Planning (DCP). It contains Burough, Latitude, Longitude for each venue in New Yor City. Using Foursquare API, we can get Neighborhood information for each venue in the dataset.\n",
    "Another way to get New york city dataset is from Foursquare API with getting latitude and longitude of the center of New York City and getting all venues within a 500-mile radies and filtering out all venues with New York City as city name for the venue.\n",
    "#### Toronto data\n",
    "A similar exercise can be done for to get all venues in Toronto by Foursquare API or as we did int he previous exercise, download the Toronto Zip Codes from Wikipedia, parse the wikipedia webpage using BeautifulSoup package. Using the geolocator or the csv file provided by the assignment, we can get latitude and longitiude for the neighborhoods and iterate through the Foursquare API to get all venues in each neighborhood.\n",
    "\n",
    "### Data Wrangling\n",
    "\n",
    "Below steps will be followed to clean the data from cities datasets \n",
    "1. Only process the cells that have an assigned borough. Ignore cells with a borough that is Not assigned.\n",
    "2. More than one neighborhood can exist in one postal code area. Split the neighborhoods as one per line.\n",
    "3. If a cell has a borough but a Not assigned  neighborhood, then the neighborhood will be the same as the borough.\n",
    "\n",
    "<p>Step 1: The initial data consists of ZipCode, Burough, Neighborhood from Wikipedia.</p>\n",
    "<p>Step 2: Using Geolocator or the csv file provided, we can get the Latitude, Longitude of each Neighborhood.</p>\n",
    "<p>Step 3: By passing the latitude and longitude into Foursquare API, we can get venue information like <b>Neighborhood Latitude, Neighborhood Longitude, Venue, Venue Latitude, Venue Longitude, Venue Category</b></p>\n",
    "\n",
    "### Data Clustering\n",
    "Analyze each neighborhood and cluster each neighborhood in each city. \n",
    "#### Analysis\n",
    "let's group rows by neighborhood and by taking the mean of the frequency of occurrence of each category. Identify 10 most common venue categories in each Neighborhood.\n",
    "#### Clustering \n",
    "Based on the top 10 most common venue categories, cluster the neighborhoods using k-means clustering. test different k values to see the formation of clusters.\n",
    "### Cosine Similarity\n",
    "Once clusters are formed for each neighborhood of each city, we can use cosine similarity for each cluster of one city to another city and iterating through all of them to find the most similar clusters of 2 cities."
   ]
  },
  {
   "cell_type": "markdown",
   "metadata": {},
   "source": []
  },
  {
   "cell_type": "markdown",
   "metadata": {},
   "source": []
  },
  {
   "cell_type": "markdown",
   "metadata": {},
   "source": []
  },
  {
   "cell_type": "markdown",
   "metadata": {},
   "source": []
  },
  {
   "cell_type": "markdown",
   "metadata": {},
   "source": []
  },
  {
   "cell_type": "markdown",
   "metadata": {},
   "source": []
  },
  {
   "cell_type": "markdown",
   "metadata": {},
   "source": []
  },
  {
   "cell_type": "markdown",
   "metadata": {},
   "source": []
  },
  {
   "cell_type": "markdown",
   "metadata": {},
   "source": []
  },
  {
   "cell_type": "markdown",
   "metadata": {},
   "source": []
  },
  {
   "cell_type": "markdown",
   "metadata": {},
   "source": []
  },
  {
   "cell_type": "markdown",
   "metadata": {},
   "source": []
  },
  {
   "cell_type": "markdown",
   "metadata": {},
   "source": []
  },
  {
   "cell_type": "markdown",
   "metadata": {},
   "source": []
  },
  {
   "cell_type": "markdown",
   "metadata": {},
   "source": []
  }
 ],
 "metadata": {
  "kernelspec": {
   "display_name": "Python 3",
   "language": "python",
   "name": "python3"
  },
  "language_info": {
   "codemirror_mode": {
    "name": "ipython",
    "version": 3
   },
   "file_extension": ".py",
   "mimetype": "text/x-python",
   "name": "python",
   "nbconvert_exporter": "python",
   "pygments_lexer": "ipython3",
   "version": "3.8.3"
  }
 },
 "nbformat": 4,
 "nbformat_minor": 4
}
